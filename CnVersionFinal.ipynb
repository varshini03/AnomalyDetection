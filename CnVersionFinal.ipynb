{
  "nbformat": 4,
  "nbformat_minor": 0,
  "metadata": {
    "colab": {
      "provenance": [],
      "authorship_tag": "ABX9TyOSEEkn0I449z1DgZUXmVTx",
      "include_colab_link": true
    },
    "kernelspec": {
      "name": "python3",
      "display_name": "Python 3"
    },
    "language_info": {
      "name": "python"
    }
  },
  "cells": [
    {
      "cell_type": "markdown",
      "metadata": {
        "id": "view-in-github",
        "colab_type": "text"
      },
      "source": [
        "<a href=\"https://colab.research.google.com/github/varshini03/AnomalyDetection/blob/main/CnVersionFinal.ipynb\" target=\"_parent\"><img src=\"https://colab.research.google.com/assets/colab-badge.svg\" alt=\"Open In Colab\"/></a>"
      ]
    },
    {
      "cell_type": "code",
      "execution_count": 13,
      "metadata": {
        "id": "309oF6jT0rnk"
      },
      "outputs": [],
      "source": [
        "from sklearn.datasets import make_classification\n",
        "from sklearn.model_selection import train_test_split\n",
        "import pandas as pd\n",
        "import numpy as np\n",
        "from sklearn.metrics import accuracy_score\n",
        "from sklearn.naive_bayes import MultinomialNB\n",
        "from sklearn.preprocessing import LabelEncoder\n",
        "from sklearn.preprocessing import OrdinalEncoder\n",
        "from xgboost import XGBClassifier\n",
        "from sklearn.metrics import confusion_matrix\n",
        "import matplotlib.pyplot as plt\n",
        "import seaborn as sns\n",
        "import numpy as np"
      ]
    },
    {
      "cell_type": "code",
      "source": [
        "df1 = pd.read_csv(\"labelled.csv\")"
      ],
      "metadata": {
        "id": "A12YeJfF5klY"
      },
      "execution_count": 14,
      "outputs": []
    },
    {
      "cell_type": "code",
      "source": [
        "df2 = pd.read_csv('unlabelled.csv')"
      ],
      "metadata": {
        "id": "KU-1vaHA5623"
      },
      "execution_count": 15,
      "outputs": []
    },
    {
      "cell_type": "code",
      "source": [
        "print(df2)"
      ],
      "metadata": {
        "colab": {
          "base_uri": "https://localhost:8080/"
        },
        "id": "N_giQRgu26K1",
        "outputId": "b3720053-0caa-4ce4-bdfb-b0e96cb8316a"
      },
      "execution_count": null,
      "outputs": [
        {
          "output_type": "stream",
          "name": "stdout",
          "text": [
            "         tcp.flags  tcp.time_delta  tcp.len mqtt.conack.flags  \\\n",
            "0       0x00000018        0.998867       10                 0   \n",
            "1       0x00000010        0.000067     1460                 0   \n",
            "2       0x00000010        0.000058     1460                 0   \n",
            "3       0x00000018        0.000227       10                 0   \n",
            "4       0x00000018        0.000236       16                 0   \n",
            "...            ...             ...      ...               ...   \n",
            "231641  0x00000010        0.000003        0                 0   \n",
            "231642  0x00000010        0.000003        0                 0   \n",
            "231643  0x00000010        0.000010        0                 0   \n",
            "231644  0x00000018        0.000001       12                 0   \n",
            "231645  0x00000010        0.000006        0                 0   \n",
            "\n",
            "        mqtt.conack.flags.reserved  mqtt.conack.flags.sp  mqtt.conack.val  \\\n",
            "0                                0                     0                0   \n",
            "1                                0                     0                0   \n",
            "2                                0                     0                0   \n",
            "3                                0                     0                0   \n",
            "4                                0                     0                0   \n",
            "...                            ...                   ...              ...   \n",
            "231641                           0                     0                0   \n",
            "231642                           0                     0                0   \n",
            "231643                           0                     0                0   \n",
            "231644                           0                     0                0   \n",
            "231645                           0                     0                0   \n",
            "\n",
            "        mqtt.conflag.cleansess  mqtt.conflag.passwd  mqtt.conflag.qos  ...  \\\n",
            "0                            0                    0                 0  ...   \n",
            "1                            0                    0                 0  ...   \n",
            "2                            0                    0                 0  ...   \n",
            "3                            0                    0                 0  ...   \n",
            "4                            0                    0                 0  ...   \n",
            "...                        ...                  ...               ...  ...   \n",
            "231641                       0                    0                 0  ...   \n",
            "231642                       0                    0                 0  ...   \n",
            "231643                       0                    0                 0  ...   \n",
            "231644                       0                    0                 0  ...   \n",
            "231645                       0                    0                 0  ...   \n",
            "\n",
            "        mqtt.protoname  mqtt.qos  mqtt.retain  mqtt.sub.qos mqtt.suback.qos  \\\n",
            "0                    0         0            0             0               0   \n",
            "1                    0         1            0             0               0   \n",
            "2                    0         1            0             0               0   \n",
            "3                    0         0            0             0               0   \n",
            "4                    0         0            0             0               0   \n",
            "...                ...       ...          ...           ...             ...   \n",
            "231641               0         0            0             0               0   \n",
            "231642               0         0            0             0               0   \n",
            "231643               0         0            0             0               0   \n",
            "231644               0         0            0             0               0   \n",
            "231645               0         0            0             0               0   \n",
            "\n",
            "        mqtt.ver mqtt.willmsg  mqtt.willmsg_len  mqtt.willtopic  \\\n",
            "0              0            0                 0               0   \n",
            "1              0            0                 0               0   \n",
            "2              0            0                 0               0   \n",
            "3              0            0                 0               0   \n",
            "4              0            0                 0               0   \n",
            "...          ...          ...               ...             ...   \n",
            "231641         0            0                 0               0   \n",
            "231642         0            0                 0               0   \n",
            "231643         0            0                 0               0   \n",
            "231644         0            0                 0               0   \n",
            "231645         0            0                 0               0   \n",
            "\n",
            "       mqtt.willtopic_len  \n",
            "0                       0  \n",
            "1                       0  \n",
            "2                       0  \n",
            "3                       0  \n",
            "4                       0  \n",
            "...                   ...  \n",
            "231641                  0  \n",
            "231642                  0  \n",
            "231643                  0  \n",
            "231644                  0  \n",
            "231645                  0  \n",
            "\n",
            "[231646 rows x 33 columns]\n"
          ]
        }
      ]
    },
    {
      "cell_type": "code",
      "source": [
        "X = df1.drop('target', axis=1)\n",
        "Y = df1['target']"
      ],
      "metadata": {
        "id": "0fNDolkxrKc2"
      },
      "execution_count": 16,
      "outputs": []
    },
    {
      "cell_type": "code",
      "source": [
        "label_encoder = LabelEncoder()\n",
        "ordinal_encoder = OrdinalEncoder()\n",
        "X = ordinal_encoder.fit_transform(X)\n",
        "Y = label_encoder.fit_transform(Y)\n",
        "df2 = ordinal_encoder.fit_transform(df2)"
      ],
      "metadata": {
        "id": "RXfgdvvfwwIh"
      },
      "execution_count": 17,
      "outputs": []
    },
    {
      "cell_type": "code",
      "source": [
        "X_train, X_test, Y_train, Y_test = train_test_split(X, Y, test_size=0.5, random_state=42)"
      ],
      "metadata": {
        "id": "V5JWOniArRre"
      },
      "execution_count": 18,
      "outputs": []
    },
    {
      "cell_type": "code",
      "source": [
        "print(X)"
      ],
      "metadata": {
        "colab": {
          "base_uri": "https://localhost:8080/"
        },
        "id": "m60Y7d5soJLA",
        "outputId": "dbea2625-5062-4135-f608-ed587b1e9dbf"
      },
      "execution_count": null,
      "outputs": [
        {
          "output_type": "stream",
          "name": "stdout",
          "text": [
            "[[5.000e+00 2.574e+03 0.000e+00 ... 0.000e+00 0.000e+00 0.000e+00]\n",
            " [6.000e+00 1.000e+00 4.500e+01 ... 0.000e+00 0.000e+00 0.000e+00]\n",
            " [6.000e+00 4.020e+03 1.000e+01 ... 0.000e+00 0.000e+00 0.000e+00]\n",
            " ...\n",
            " [2.000e+00 1.021e+03 0.000e+00 ... 0.000e+00 0.000e+00 0.000e+00]\n",
            " [2.000e+00 2.600e+01 0.000e+00 ... 0.000e+00 0.000e+00 0.000e+00]\n",
            " [2.000e+00 0.000e+00 0.000e+00 ... 0.000e+00 0.000e+00 0.000e+00]]\n"
          ]
        }
      ]
    },
    {
      "cell_type": "code",
      "source": [
        "# Define the number of self-training iterations\n",
        "num_iterations = 10\n",
        "confidence_threshold = 0.9"
      ],
      "metadata": {
        "id": "f4m3zOnPlyDF"
      },
      "execution_count": 19,
      "outputs": []
    },
    {
      "cell_type": "code",
      "source": [
        "for i in range(num_iterations):\n",
        "\n",
        "    # Predict probabilities for the unlabeled data\n",
        "    y_unlabeled_probs = clf.predict_proba(df2)\n",
        "    y_unlabeled_pred = clf.predict(df2)\n",
        "\n",
        "    # Identify the instances with high confidence predictions\n",
        "    high_confidence_samples = [i for i, probs in enumerate(y_unlabeled_probs) if max(probs) >= confidence_threshold]\n",
        "\n",
        "    # Add these high-confidence samples to the labeled dataset\n",
        "    X_train = np.vstack((X_train, df2[high_confidence_samples]))\n",
        "    Y_train = np.hstack((Y_train, y_unlabeled_pred[high_confidence_samples]))\n",
        "\n",
        "    # Remove the high-confidence samples from the unlabeled dataset\n",
        "    df2 = np.delete(df2, high_confidence_samples, axis=0)"
      ],
      "metadata": {
        "id": "v1ZEPt_ExG6V"
      },
      "execution_count": 22,
      "outputs": []
    },
    {
      "cell_type": "code",
      "source": [
        "print(df2)"
      ],
      "metadata": {
        "colab": {
          "base_uri": "https://localhost:8080/"
        },
        "id": "bXgKFW6szHg7",
        "outputId": "d37c94f9-282b-47d9-baea-dc04542897e1"
      },
      "execution_count": null,
      "outputs": [
        {
          "output_type": "stream",
          "name": "stdout",
          "text": [
            "[[  2.  10.   0. ...   0.   0.   0.]\n",
            " [  2.   5.   0. ...   0.   0.   0.]\n",
            " [  2. 893.   0. ...   0.   0.   0.]\n",
            " ...\n",
            " [  2.   4.   0. ...   0.   0.   0.]\n",
            " [  2.  11.   0. ...   0.   0.   0.]\n",
            " [  2.   7.   0. ...   0.   0.   0.]]\n"
          ]
        }
      ]
    },
    {
      "cell_type": "code",
      "source": [
        "# Evaluate the final model on a test set\n",
        "y_test_pred = clf.predict(X_test)\n",
        "accuracy = accuracy_score(Y_test, y_test_pred)\n",
        "\n",
        "print(f\"Final model accuracy: {accuracy}\")"
      ],
      "metadata": {
        "colab": {
          "base_uri": "https://localhost:8080/"
        },
        "id": "nBrveAso1bmK",
        "outputId": "941f8c6b-fa0e-49b2-adbf-e00a1e6a9e11"
      },
      "execution_count": 23,
      "outputs": [
        {
          "output_type": "stream",
          "name": "stdout",
          "text": [
            "Final model accuracy: 0.9367710746298721\n"
          ]
        }
      ]
    },
    {
      "cell_type": "markdown",
      "source": [
        "below is for XGBoost"
      ],
      "metadata": {
        "id": "bQ2x6dgfCBvh"
      }
    },
    {
      "cell_type": "code",
      "source": [
        "# Initialize the XGBoost classifier\n",
        "clf = XGBClassifier()"
      ],
      "metadata": {
        "id": "q722-dyw3TCQ"
      },
      "execution_count": 20,
      "outputs": []
    },
    {
      "cell_type": "code",
      "source": [
        "# Train the classifier on the initial labeled data\n",
        "clf.fit(X_train, Y_train)"
      ],
      "metadata": {
        "colab": {
          "base_uri": "https://localhost:8080/",
          "height": 248
        },
        "id": "CyClBAZpCGOH",
        "outputId": "afd1671c-ec7c-4ca0-9800-e72de5026210"
      },
      "execution_count": 21,
      "outputs": [
        {
          "output_type": "execute_result",
          "data": {
            "text/plain": [
              "XGBClassifier(base_score=None, booster=None, callbacks=None,\n",
              "              colsample_bylevel=None, colsample_bynode=None,\n",
              "              colsample_bytree=None, device=None, early_stopping_rounds=None,\n",
              "              enable_categorical=False, eval_metric=None, feature_types=None,\n",
              "              gamma=None, grow_policy=None, importance_type=None,\n",
              "              interaction_constraints=None, learning_rate=None, max_bin=None,\n",
              "              max_cat_threshold=None, max_cat_to_onehot=None,\n",
              "              max_delta_step=None, max_depth=None, max_leaves=None,\n",
              "              min_child_weight=None, missing=nan, monotone_constraints=None,\n",
              "              multi_strategy=None, n_estimators=None, n_jobs=None,\n",
              "              num_parallel_tree=None, objective='multi:softprob', ...)"
            ],
            "text/html": [
              "<style>#sk-container-id-1 {color: black;background-color: white;}#sk-container-id-1 pre{padding: 0;}#sk-container-id-1 div.sk-toggleable {background-color: white;}#sk-container-id-1 label.sk-toggleable__label {cursor: pointer;display: block;width: 100%;margin-bottom: 0;padding: 0.3em;box-sizing: border-box;text-align: center;}#sk-container-id-1 label.sk-toggleable__label-arrow:before {content: \"▸\";float: left;margin-right: 0.25em;color: #696969;}#sk-container-id-1 label.sk-toggleable__label-arrow:hover:before {color: black;}#sk-container-id-1 div.sk-estimator:hover label.sk-toggleable__label-arrow:before {color: black;}#sk-container-id-1 div.sk-toggleable__content {max-height: 0;max-width: 0;overflow: hidden;text-align: left;background-color: #f0f8ff;}#sk-container-id-1 div.sk-toggleable__content pre {margin: 0.2em;color: black;border-radius: 0.25em;background-color: #f0f8ff;}#sk-container-id-1 input.sk-toggleable__control:checked~div.sk-toggleable__content {max-height: 200px;max-width: 100%;overflow: auto;}#sk-container-id-1 input.sk-toggleable__control:checked~label.sk-toggleable__label-arrow:before {content: \"▾\";}#sk-container-id-1 div.sk-estimator input.sk-toggleable__control:checked~label.sk-toggleable__label {background-color: #d4ebff;}#sk-container-id-1 div.sk-label input.sk-toggleable__control:checked~label.sk-toggleable__label {background-color: #d4ebff;}#sk-container-id-1 input.sk-hidden--visually {border: 0;clip: rect(1px 1px 1px 1px);clip: rect(1px, 1px, 1px, 1px);height: 1px;margin: -1px;overflow: hidden;padding: 0;position: absolute;width: 1px;}#sk-container-id-1 div.sk-estimator {font-family: monospace;background-color: #f0f8ff;border: 1px dotted black;border-radius: 0.25em;box-sizing: border-box;margin-bottom: 0.5em;}#sk-container-id-1 div.sk-estimator:hover {background-color: #d4ebff;}#sk-container-id-1 div.sk-parallel-item::after {content: \"\";width: 100%;border-bottom: 1px solid gray;flex-grow: 1;}#sk-container-id-1 div.sk-label:hover label.sk-toggleable__label {background-color: #d4ebff;}#sk-container-id-1 div.sk-serial::before {content: \"\";position: absolute;border-left: 1px solid gray;box-sizing: border-box;top: 0;bottom: 0;left: 50%;z-index: 0;}#sk-container-id-1 div.sk-serial {display: flex;flex-direction: column;align-items: center;background-color: white;padding-right: 0.2em;padding-left: 0.2em;position: relative;}#sk-container-id-1 div.sk-item {position: relative;z-index: 1;}#sk-container-id-1 div.sk-parallel {display: flex;align-items: stretch;justify-content: center;background-color: white;position: relative;}#sk-container-id-1 div.sk-item::before, #sk-container-id-1 div.sk-parallel-item::before {content: \"\";position: absolute;border-left: 1px solid gray;box-sizing: border-box;top: 0;bottom: 0;left: 50%;z-index: -1;}#sk-container-id-1 div.sk-parallel-item {display: flex;flex-direction: column;z-index: 1;position: relative;background-color: white;}#sk-container-id-1 div.sk-parallel-item:first-child::after {align-self: flex-end;width: 50%;}#sk-container-id-1 div.sk-parallel-item:last-child::after {align-self: flex-start;width: 50%;}#sk-container-id-1 div.sk-parallel-item:only-child::after {width: 0;}#sk-container-id-1 div.sk-dashed-wrapped {border: 1px dashed gray;margin: 0 0.4em 0.5em 0.4em;box-sizing: border-box;padding-bottom: 0.4em;background-color: white;}#sk-container-id-1 div.sk-label label {font-family: monospace;font-weight: bold;display: inline-block;line-height: 1.2em;}#sk-container-id-1 div.sk-label-container {text-align: center;}#sk-container-id-1 div.sk-container {/* jupyter's `normalize.less` sets `[hidden] { display: none; }` but bootstrap.min.css set `[hidden] { display: none !important; }` so we also need the `!important` here to be able to override the default hidden behavior on the sphinx rendered scikit-learn.org. See: https://github.com/scikit-learn/scikit-learn/issues/21755 */display: inline-block !important;position: relative;}#sk-container-id-1 div.sk-text-repr-fallback {display: none;}</style><div id=\"sk-container-id-1\" class=\"sk-top-container\"><div class=\"sk-text-repr-fallback\"><pre>XGBClassifier(base_score=None, booster=None, callbacks=None,\n",
              "              colsample_bylevel=None, colsample_bynode=None,\n",
              "              colsample_bytree=None, device=None, early_stopping_rounds=None,\n",
              "              enable_categorical=False, eval_metric=None, feature_types=None,\n",
              "              gamma=None, grow_policy=None, importance_type=None,\n",
              "              interaction_constraints=None, learning_rate=None, max_bin=None,\n",
              "              max_cat_threshold=None, max_cat_to_onehot=None,\n",
              "              max_delta_step=None, max_depth=None, max_leaves=None,\n",
              "              min_child_weight=None, missing=nan, monotone_constraints=None,\n",
              "              multi_strategy=None, n_estimators=None, n_jobs=None,\n",
              "              num_parallel_tree=None, objective=&#x27;multi:softprob&#x27;, ...)</pre><b>In a Jupyter environment, please rerun this cell to show the HTML representation or trust the notebook. <br />On GitHub, the HTML representation is unable to render, please try loading this page with nbviewer.org.</b></div><div class=\"sk-container\" hidden><div class=\"sk-item\"><div class=\"sk-estimator sk-toggleable\"><input class=\"sk-toggleable__control sk-hidden--visually\" id=\"sk-estimator-id-1\" type=\"checkbox\" checked><label for=\"sk-estimator-id-1\" class=\"sk-toggleable__label sk-toggleable__label-arrow\">XGBClassifier</label><div class=\"sk-toggleable__content\"><pre>XGBClassifier(base_score=None, booster=None, callbacks=None,\n",
              "              colsample_bylevel=None, colsample_bynode=None,\n",
              "              colsample_bytree=None, device=None, early_stopping_rounds=None,\n",
              "              enable_categorical=False, eval_metric=None, feature_types=None,\n",
              "              gamma=None, grow_policy=None, importance_type=None,\n",
              "              interaction_constraints=None, learning_rate=None, max_bin=None,\n",
              "              max_cat_threshold=None, max_cat_to_onehot=None,\n",
              "              max_delta_step=None, max_depth=None, max_leaves=None,\n",
              "              min_child_weight=None, missing=nan, monotone_constraints=None,\n",
              "              multi_strategy=None, n_estimators=None, n_jobs=None,\n",
              "              num_parallel_tree=None, objective=&#x27;multi:softprob&#x27;, ...)</pre></div></div></div></div></div>"
            ]
          },
          "metadata": {},
          "execution_count": 21
        }
      ]
    },
    {
      "cell_type": "code",
      "source": [
        "cm = confusion_matrix(Y_test, y_test_pred)\n",
        "\n",
        "print(\"Confusion Matrix:\")\n",
        "print(cm)"
      ],
      "metadata": {
        "id": "ZNGN_ejHCK6m",
        "colab": {
          "base_uri": "https://localhost:8080/"
        },
        "outputId": "0fc02777-5a6c-454f-c962-db4904258013"
      },
      "execution_count": 27,
      "outputs": [
        {
          "output_type": "stream",
          "name": "stdout",
          "text": [
            "Confusion Matrix:\n",
            "[[ 1891   160     0    32    95     0]\n",
            " [  182 17986     0  1485    22     0]\n",
            " [    1    11    43    31     0     0]\n",
            " [    1   440     0 24246     2     0]\n",
            " [  561   100     1    15   965     0]\n",
            " [    0     0     0     0     0  1375]]\n"
          ]
        }
      ]
    },
    {
      "cell_type": "code",
      "source": [
        "class_names = df1['target'].unique()\n",
        "\n",
        "# Create a heatmap\n",
        "plt.figure(figsize=(8, 6))\n",
        "sns.heatmap(cm, annot=True, fmt=\"d\", cmap=\"Blues\",\n",
        "            xticklabels=class_names,\n",
        "            yticklabels=class_names)\n",
        "\n",
        "plt.title('Confusion Matrix')\n",
        "plt.ylabel('True class')\n",
        "plt.xlabel('Predicted class')\n",
        "plt.show()\n"
      ],
      "metadata": {
        "colab": {
          "base_uri": "https://localhost:8080/",
          "height": 564
        },
        "id": "HGSys-gp3aeB",
        "outputId": "fa30851c-dcf9-42cc-d675-745af5884bc2"
      },
      "execution_count": 34,
      "outputs": [
        {
          "output_type": "display_data",
          "data": {
            "text/plain": [
              "<Figure size 800x600 with 2 Axes>"
            ],
            "image/png": "[encoded data removed]"
          },
          "metadata": {}
        }
      ]
    }
  ]
}